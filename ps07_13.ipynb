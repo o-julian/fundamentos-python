{
 "cells": [
  {
   "cell_type": "markdown",
   "metadata": {},
   "source": [
    "# Operadores lógicos"
   ]
  },
  {
   "cell_type": "markdown",
   "metadata": {},
   "source": [
    "* Operador lógico AND\n",
    "* Operador lógico OR\n",
    "* Operador lógico NOT\n",
    " "
   ]
  },
  {
   "cell_type": "markdown",
   "metadata": {},
   "source": [
    "## Operador lógico AND"
   ]
  },
  {
   "cell_type": "markdown",
   "metadata": {},
   "source": [
    "<p> Imagine um benefício que será concebido para uma pessoa, isso, se a pessoa tiver 16 anos ou mais. Como exemplo, foi informado a idade 17, sendo assim, poderíamos escrever o seguinte código para avaliar:\n",
    "</p>"
   ]
  },
  {
   "cell_type": "code",
   "execution_count": 1,
   "metadata": {},
   "outputs": [
    {
     "data": {
      "text/plain": [
       "True"
      ]
     },
     "execution_count": 1,
     "metadata": {},
     "output_type": "execute_result"
    }
   ],
   "source": [
    "17 >= 16 # Caso o resultado seja VERDADE (TRUE) é concebido o benefício"
   ]
  },
  {
   "cell_type": "markdown",
   "metadata": {},
   "source": [
    "Agora, o mesmo benefício apenas será concebido se a pessoa tiver 16 anos ou mais <b>e</b> a renda familiar deve ser inferior, ou igual, a dois salários mínimos."
   ]
  },
  {
   "cell_type": "code",
   "execution_count": 3,
   "metadata": {},
   "outputs": [
    {
     "data": {
      "text/plain": [
       "True"
      ]
     },
     "execution_count": 3,
     "metadata": {},
     "output_type": "execute_result"
    }
   ],
   "source": [
    "18 >= 16 and 1500 <= 1996 # A idade informado foi 18 anos, 1500 foi a renda informada. "
   ]
  },
  {
   "cell_type": "markdown",
   "metadata": {},
   "source": [
    "## Operador lógico OR"
   ]
  },
  {
   "cell_type": "markdown",
   "metadata": {},
   "source": [
    "<p> Um radar localizado em uma das principais avenidas da capital da Paraíba está multando os motoristas que estiverem sem cindo <b>ou</b> o limite de velocidade máxima for ultrapassado (50KM/h). Foi análisado dois motociclistas e uma motorista, onde, os motociclistas estavam a uma velocidade de 55 KM/h, já a motorista estava a 45 KM/h, mas sem cinto. Criando nosso código no Python para informar se foi multado(a) ou não (TRUE), poderia ser escrito:</p>"
   ]
  },
  {
   "cell_type": "code",
   "execution_count": 4,
   "metadata": {},
   "outputs": [
    {
     "data": {
      "text/plain": [
       "True"
      ]
     },
     "execution_count": 4,
     "metadata": {},
     "output_type": "execute_result"
    }
   ],
   "source": [
    "# Motociclistas\n",
    "55 >= 50 # Multados"
   ]
  },
  {
   "cell_type": "code",
   "execution_count": 9,
   "metadata": {},
   "outputs": [
    {
     "data": {
      "text/plain": [
       "True"
      ]
     },
     "execution_count": 9,
     "metadata": {},
     "output_type": "execute_result"
    }
   ],
   "source": [
    "# Motorista\n",
    "45 >= 50 or True # Foi usado o True para representar a ausência do cinto. Nesse caso, a motorista foi multada."
   ]
  },
  {
   "cell_type": "markdown",
   "metadata": {},
   "source": [
    "<div class=\"alert alert-block alert-info\">\n",
    "    O Python representa qualquer valor diferente de 0 como verdadeiro (True).\n",
    "</div>"
   ]
  },
  {
   "cell_type": "markdown",
   "metadata": {},
   "source": [
    "## Operador lógico NOT"
   ]
  },
  {
   "cell_type": "markdown",
   "metadata": {},
   "source": [
    "<p> Pegando o último exemplo do operador OR, vamos considerar que a motorista estava a uma velocidade de 45KM/h, porém, desta vez com cinto.</p>"
   ]
  },
  {
   "cell_type": "code",
   "execution_count": 13,
   "metadata": {},
   "outputs": [
    {
     "data": {
      "text/plain": [
       "False"
      ]
     },
     "execution_count": 13,
     "metadata": {},
     "output_type": "execute_result"
    }
   ],
   "source": [
    "# Motorista\n",
    "45 >= 50 or (not True) # A motorista não foi multada"
   ]
  },
  {
   "cell_type": "markdown",
   "metadata": {},
   "source": [
    "<p> Como o valor True representava a ausência do cinto, e neste exemplo ela estava com cinto, foi usado o operador \"not\" para negar a ausência do cinto. Então, o que era verdadeiro (True, no caso, multada), transformou-se em falso (False, não multada). </p>"
   ]
  }
 ],
 "metadata": {
  "kernelspec": {
   "display_name": "Python 3",
   "language": "python",
   "name": "python3"
  },
  "language_info": {
   "codemirror_mode": {
    "name": "ipython",
    "version": 3
   },
   "file_extension": ".py",
   "mimetype": "text/x-python",
   "name": "python",
   "nbconvert_exporter": "python",
   "pygments_lexer": "ipython3",
   "version": "3.7.4"
  }
 },
 "nbformat": 4,
 "nbformat_minor": 2
}
